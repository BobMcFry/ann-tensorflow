{
 "cells": [
  {
   "cell_type": "markdown",
   "metadata": {},
   "source": [
    "# Assignment 1"
   ]
  },
  {
   "cell_type": "markdown",
   "metadata": {},
   "source": [
    "## Exercise 1\n",
    "### Part 1\n",
    "The network-function of the given neural network is denoted as follows:\n",
    "$$y = \\sigma(\\overline{w}_3\\sigma(W_2\\sigma(W_1\\overline{x})))$$\n",
    "where $\\overline{x}$ is the input vector, $W_i$ is the weight matrix for layer with indexes $i = \\{1, 2\\}$ and $\\overline{w}_3$ is the weight vector for the last neuron."
   ]
  },
  {
   "cell_type": "markdown",
   "metadata": {},
   "source": [
    "\n",
    "### Part 2\n",
    "The sum squared error function looks like the following:\n",
    "$$E(y) & = & \\sum_i \\frac{1}{2}(y_i - \\hat{y}_i)^2 \\text{.}$$\n",
    "The variable $y$ represents our estimated output and the variable $\\hat{y}$ denotes the actual value. Inserting our formula from part $1$ yields\n",
    "$$\n",
    "E(X) = \\sum_{\\overline{x}_i\\in X} \\frac{1} {2}(\\sigma(\\overline{w}_3\\sigma(W_2\\sigma(W_1\\overline{x}_i))) - \\hat{y}_i)^2$$\n",
    "where $X$ denotes our data set and $x_i$ is the $i$-th input vector."
   ]
  },
  {
   "cell_type": "markdown",
   "metadata": {},
   "source": [
    "### Part 3\n",
    "$$\\newcommand{\\ov}[1]{\\overline{#1}}$$\n",
    "Let $$K(x) =  \\sigma(W_2\\sigma(W_1\\overline{x}_i))$$ be all the parts independent of $w_3$. Thus\n",
    "$$\n",
    "\\begin{align}\n",
    "E(X)  = & \\sum_{\\overline{x}_i \\in X}\\frac{1}{2}\\cdot(\\sigma(w_3 \\cdot K(\\overline{x}_i)) - \\hat{y}_i)^2\\\\ \\text{and the gradient}\\\\\n",
    "\\nabla_{w_3} E(X) = & \\sum_{\\ov{x}_i} (\\sigma(w_3 \\cdot K(\\ov{x}_i)) - \\hat{y}_i) \\cdot  (\\nabla_{w_3}\\sigma(w_3K(\\ov{x}_i)))\\\\\n",
    "\\nabla_{w_3} E(X) = & \\sum_{\\ov{x}_i} (\\sigma(w_3 \\cdot K(\\ov{x}_i)) - \\hat{y}_i) \\cdot  (K(\\ov{x}_i) \\cdot \\sigma^\\prime(w_3 \\cdot K(\\ov{x}_i)))\\\\\n",
    "\\nabla_{w_3} E(X) = & \\sum_{\\ov{x}_i} (\\sigma(w_3 \\cdot K(\\ov{x}_i)) - \\hat{y}_i)  \\cdot \\sigma^\\prime(w_3 \\cdot K(\\ov{x}_i)) \\cdot K(\\ov{x}_i)\n",
    "\\end{align}$$"
   ]
  },
  {
   "cell_type": "code",
   "execution_count": null,
   "metadata": {},
   "outputs": [],
   "source": []
  }
 ],
 "metadata": {
  "git": {
   "suppress_outputs": true
  },
  "kernelspec": {
   "display_name": "Python 3",
   "language": "python",
   "name": "python3"
  },
  "language_info": {
   "codemirror_mode": {
    "name": "ipython",
    "version": 3
   },
   "file_extension": ".py",
   "mimetype": "text/x-python",
   "name": "python",
   "nbconvert_exporter": "python",
   "pygments_lexer": "ipython3",
   "version": "3.5.2"
  }
 },
 "nbformat": 4,
 "nbformat_minor": 2
}
