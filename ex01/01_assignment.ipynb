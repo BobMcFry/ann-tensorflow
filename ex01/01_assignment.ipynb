{
 "cells": [
  {
   "cell_type": "markdown",
   "metadata": {},
   "source": [
    "# Assignment 1"
   ]
  },
  {
   "cell_type": "markdown",
   "metadata": {},
   "source": [
    "## Exercise 1\n",
    "### Part 1\n",
    "The network-function of the given neural network is denoted as follows:\n",
    "$$y = \\sigma(\\sigma(\\overline{x}^T W_1)W_2)\\overline{w}_3$$\n",
    "where $\\overline{x}$ is the input vector, $W_i$ is the weight matrix for layer with indexes $i = \\{1, 2\\}$ and $\\overline{w}_3$ is the weight vector for the last neuron.\n",
    "...\n",
    "ANY MORE?"
   ]
  },
  {
   "cell_type": "markdown",
   "metadata": {},
   "source": [
    "### Part 2\n",
    "The sum squared error function looks like the following:\n",
    "$$\\text{loss} = \\sum_i \\frac{1}{2}(y_i - \\hat{y}_i)^2 \\text{.}$$\n",
    "The variable $y$ represents our estimated output and the variable $\\hat{y}$ denotes the actual value. Inserting our formula from part $1$ yields\n",
    "$$\\text{loss} = \\sum_i \\frac{1} {2}(\\sigma(\\sigma(\\overline{x}^T_i W_1)W_2)\\overline{w}_3 - \\hat{y}_i)^2$$\n",
    "where $x^T_i$ is the transposed $i$-th input vector."
   ]
  }
 ],
 "metadata": {
  "git": {
   "suppress_outputs": true
  },
  "kernelspec": {
   "display_name": "Python 3",
   "language": "python",
   "name": "python3"
  },
  "language_info": {
   "codemirror_mode": {
    "name": "ipython",
    "version": 3
   },
   "file_extension": ".py",
   "mimetype": "text/x-python",
   "name": "python",
   "nbconvert_exporter": "python",
   "pygments_lexer": "ipython3",
   "version": "3.6.3"
  }
 },
 "nbformat": 4,
 "nbformat_minor": 2
}
